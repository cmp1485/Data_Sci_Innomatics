{
 "cells": [
  {
   "cell_type": "raw",
   "id": "dea82b30",
   "metadata": {},
   "source": [
    "Create pandas series with different data types in different ways\n",
    "Find the attributes of Series of [10,30,40,1,3,6,14,18,23] with index starts from 100\n",
    "create salaries of 30 employee salaries randomly from 30000-90000 then measure and describe the data using pandas series.\n",
    "What are the similaraties and differences between pandas series and nnumpy array.Prove it with code.\n",
    "create pandas series with ranges from 100 to 150 then apply indexing and slicing on it."
   ]
  },
  {
   "cell_type": "code",
   "execution_count": 6,
   "id": "47ee7335",
   "metadata": {},
   "outputs": [],
   "source": [
    "import pandas as pd"
   ]
  },
  {
   "cell_type": "markdown",
   "id": "8e45403f",
   "metadata": {},
   "source": [
    "### 1."
   ]
  },
  {
   "cell_type": "code",
   "execution_count": 7,
   "id": "32dcb467",
   "metadata": {},
   "outputs": [
    {
     "data": {
      "text/plain": [
       "0    1\n",
       "1    2\n",
       "2    3\n",
       "3    4\n",
       "4    5\n",
       "5    6\n",
       "6    7\n",
       "7    8\n",
       "8    9\n",
       "dtype: int64"
      ]
     },
     "execution_count": 7,
     "metadata": {},
     "output_type": "execute_result"
    }
   ],
   "source": [
    "pd.Series([1,2,3,4,5,6,7,8,9])"
   ]
  },
  {
   "cell_type": "code",
   "execution_count": 8,
   "id": "be2a00f9",
   "metadata": {},
   "outputs": [],
   "source": [
    "lst = [13.5,19,21.2,2,5.0,6.3,4,32]"
   ]
  },
  {
   "cell_type": "code",
   "execution_count": 42,
   "id": "6d4ef008",
   "metadata": {},
   "outputs": [
    {
     "data": {
      "text/plain": [
       "0    13.5\n",
       "1    19.0\n",
       "2    21.2\n",
       "3     2.0\n",
       "4     5.0\n",
       "5     6.3\n",
       "6     4.0\n",
       "7    32.0\n",
       "dtype: float64"
      ]
     },
     "execution_count": 42,
     "metadata": {},
     "output_type": "execute_result"
    }
   ],
   "source": [
    "pd.Series(lst)  #from list"
   ]
  },
  {
   "cell_type": "code",
   "execution_count": 10,
   "id": "f2284839",
   "metadata": {},
   "outputs": [],
   "source": [
    "tup = ('kai', 92, 88, 1.10, 'zero', 'nine', 9)"
   ]
  },
  {
   "cell_type": "code",
   "execution_count": 43,
   "id": "e7f79af1",
   "metadata": {},
   "outputs": [
    {
     "data": {
      "text/plain": [
       "0     kai\n",
       "1      92\n",
       "2      88\n",
       "3     1.1\n",
       "4    zero\n",
       "5    nine\n",
       "6       9\n",
       "dtype: object"
      ]
     },
     "execution_count": 43,
     "metadata": {},
     "output_type": "execute_result"
    }
   ],
   "source": [
    "hetero = pd.Series(tup)  #from tuple\n",
    "hetero"
   ]
  },
  {
   "cell_type": "code",
   "execution_count": 12,
   "id": "59ba2882",
   "metadata": {},
   "outputs": [],
   "source": [
    "dist = {'Sainikpuri':20, 'Begumpet':130, 'Hitech city':500, 'Habsiguda':105}"
   ]
  },
  {
   "cell_type": "code",
   "execution_count": 13,
   "id": "af2f17e5",
   "metadata": {},
   "outputs": [
    {
     "data": {
      "text/plain": [
       "Sainikpuri      20\n",
       "Begumpet       130\n",
       "Hitech city    500\n",
       "Habsiguda      105\n",
       "dtype: int64"
      ]
     },
     "execution_count": 13,
     "metadata": {},
     "output_type": "execute_result"
    }
   ],
   "source": [
    "pd.Series(dist)"
   ]
  },
  {
   "cell_type": "markdown",
   "id": "f5403f4d",
   "metadata": {},
   "source": [
    "### 2."
   ]
  },
  {
   "cell_type": "code",
   "execution_count": 14,
   "id": "46c51024",
   "metadata": {},
   "outputs": [],
   "source": [
    "ser = pd.Series([10,30,40,1,3,6,14,18,23], index=list(range(100,109)))"
   ]
  },
  {
   "cell_type": "code",
   "execution_count": 15,
   "id": "78765956",
   "metadata": {},
   "outputs": [
    {
     "data": {
      "text/plain": [
       "100    10\n",
       "101    30\n",
       "102    40\n",
       "103     1\n",
       "104     3\n",
       "105     6\n",
       "106    14\n",
       "107    18\n",
       "108    23\n",
       "dtype: int64"
      ]
     },
     "execution_count": 15,
     "metadata": {},
     "output_type": "execute_result"
    }
   ],
   "source": [
    "ser"
   ]
  },
  {
   "cell_type": "code",
   "execution_count": 16,
   "id": "668aad94",
   "metadata": {},
   "outputs": [
    {
     "data": {
      "text/plain": [
       "100    10.0\n",
       "101    30.0\n",
       "102    40.0\n",
       "103     1.0\n",
       "104     3.0\n",
       "105     6.0\n",
       "106    14.0\n",
       "107    18.0\n",
       "108    23.0\n",
       "dtype: float16"
      ]
     },
     "execution_count": 16,
     "metadata": {},
     "output_type": "execute_result"
    }
   ],
   "source": [
    "ser.astype('float16')"
   ]
  },
  {
   "cell_type": "code",
   "execution_count": 17,
   "id": "c9e399c6",
   "metadata": {},
   "outputs": [
    {
     "data": {
      "text/plain": [
       "100    10\n",
       "101    30\n",
       "102    40\n",
       "103     1\n",
       "104     3\n",
       "105     6\n",
       "106    14\n",
       "107    18\n",
       "108    23\n",
       "dtype: object"
      ]
     },
     "execution_count": 17,
     "metadata": {},
     "output_type": "execute_result"
    }
   ],
   "source": [
    "ser.astype('object')"
   ]
  },
  {
   "cell_type": "code",
   "execution_count": 18,
   "id": "ff1dd5ff",
   "metadata": {},
   "outputs": [
    {
     "name": "stdout",
     "output_type": "stream",
     "text": [
      "<class 'pandas.core.series.Series'>\n",
      "Index: 9 entries, 100 to 108\n",
      "Series name: None\n",
      "Non-Null Count  Dtype\n",
      "--------------  -----\n",
      "9 non-null      int64\n",
      "dtypes: int64(1)\n",
      "memory usage: 144.0 bytes\n"
     ]
    }
   ],
   "source": [
    "ser.info()"
   ]
  },
  {
   "cell_type": "code",
   "execution_count": 19,
   "id": "34678d0f",
   "metadata": {},
   "outputs": [
    {
     "data": {
      "text/plain": [
       "count     9.000000\n",
       "mean     16.111111\n",
       "std      13.033078\n",
       "min       1.000000\n",
       "25%       6.000000\n",
       "50%      14.000000\n",
       "75%      23.000000\n",
       "max      40.000000\n",
       "dtype: float64"
      ]
     },
     "execution_count": 19,
     "metadata": {},
     "output_type": "execute_result"
    }
   ],
   "source": [
    "ser.describe()"
   ]
  },
  {
   "cell_type": "code",
   "execution_count": 20,
   "id": "02d1525b",
   "metadata": {},
   "outputs": [
    {
     "data": {
      "text/plain": [
       "dtype('int64')"
      ]
     },
     "execution_count": 20,
     "metadata": {},
     "output_type": "execute_result"
    }
   ],
   "source": [
    "ser.dtype"
   ]
  },
  {
   "cell_type": "code",
   "execution_count": 21,
   "id": "0b64753e",
   "metadata": {},
   "outputs": [
    {
     "data": {
      "text/plain": [
       "<bound method Series.items of 100    10\n",
       "101    30\n",
       "102    40\n",
       "103     1\n",
       "104     3\n",
       "105     6\n",
       "106    14\n",
       "107    18\n",
       "108    23\n",
       "dtype: int64>"
      ]
     },
     "execution_count": 21,
     "metadata": {},
     "output_type": "execute_result"
    }
   ],
   "source": [
    "ser.items"
   ]
  },
  {
   "cell_type": "code",
   "execution_count": 22,
   "id": "4605e2ef",
   "metadata": {},
   "outputs": [
    {
     "data": {
      "text/plain": [
       "72"
      ]
     },
     "execution_count": 22,
     "metadata": {},
     "output_type": "execute_result"
    }
   ],
   "source": [
    "ser.nbytes"
   ]
  },
  {
   "cell_type": "code",
   "execution_count": 23,
   "id": "ff10e475",
   "metadata": {},
   "outputs": [
    {
     "data": {
      "text/plain": [
       "1"
      ]
     },
     "execution_count": 23,
     "metadata": {},
     "output_type": "execute_result"
    }
   ],
   "source": [
    "ser.ndim"
   ]
  },
  {
   "cell_type": "code",
   "execution_count": 24,
   "id": "794d4429",
   "metadata": {},
   "outputs": [
    {
     "data": {
      "text/plain": [
       "144"
      ]
     },
     "execution_count": 24,
     "metadata": {},
     "output_type": "execute_result"
    }
   ],
   "source": [
    "ser.memory_usage()"
   ]
  },
  {
   "cell_type": "code",
   "execution_count": 25,
   "id": "c480f0b0",
   "metadata": {},
   "outputs": [
    {
     "data": {
      "text/plain": [
       "100    10\n",
       "101    30\n",
       "102    40\n",
       "dtype: int64"
      ]
     },
     "execution_count": 25,
     "metadata": {},
     "output_type": "execute_result"
    }
   ],
   "source": [
    "ser.head(3)"
   ]
  },
  {
   "cell_type": "code",
   "execution_count": 26,
   "id": "212a0da6",
   "metadata": {},
   "outputs": [
    {
     "data": {
      "text/plain": [
       "107    18\n",
       "108    23\n",
       "dtype: int64"
      ]
     },
     "execution_count": 26,
     "metadata": {},
     "output_type": "execute_result"
    }
   ],
   "source": [
    "ser.tail(2)"
   ]
  },
  {
   "cell_type": "markdown",
   "id": "8bbf6dce",
   "metadata": {},
   "source": [
    "### 3."
   ]
  },
  {
   "cell_type": "code",
   "execution_count": 27,
   "id": "ee49080a",
   "metadata": {},
   "outputs": [],
   "source": [
    "import numpy as np"
   ]
  },
  {
   "cell_type": "code",
   "execution_count": 28,
   "id": "32dc99fa",
   "metadata": {},
   "outputs": [],
   "source": [
    "salaries = np.random.randint(30000,90000,30)"
   ]
  },
  {
   "cell_type": "code",
   "execution_count": 29,
   "id": "003bec5f",
   "metadata": {},
   "outputs": [],
   "source": [
    "sal = pd.Series(salaries)"
   ]
  },
  {
   "cell_type": "code",
   "execution_count": 30,
   "id": "1528479e",
   "metadata": {},
   "outputs": [
    {
     "data": {
      "text/plain": [
       "0     82077\n",
       "1     80342\n",
       "2     56659\n",
       "3     86103\n",
       "4     82703\n",
       "5     30238\n",
       "6     57842\n",
       "7     48150\n",
       "8     40814\n",
       "9     61073\n",
       "10    64715\n",
       "11    51191\n",
       "12    50508\n",
       "13    80059\n",
       "14    59612\n",
       "15    44713\n",
       "16    72287\n",
       "17    75405\n",
       "18    44013\n",
       "19    79588\n",
       "20    44639\n",
       "21    84845\n",
       "22    62391\n",
       "23    77506\n",
       "24    85847\n",
       "25    37807\n",
       "26    43590\n",
       "27    74338\n",
       "28    33943\n",
       "29    89310\n",
       "dtype: int32"
      ]
     },
     "execution_count": 30,
     "metadata": {},
     "output_type": "execute_result"
    }
   ],
   "source": [
    "sal"
   ]
  },
  {
   "cell_type": "code",
   "execution_count": 31,
   "id": "bcc0332f",
   "metadata": {},
   "outputs": [
    {
     "name": "stdout",
     "output_type": "stream",
     "text": [
      "<class 'pandas.core.series.Series'>\n",
      "RangeIndex: 30 entries, 0 to 29\n",
      "Series name: None\n",
      "Non-Null Count  Dtype\n",
      "--------------  -----\n",
      "30 non-null     int32\n",
      "dtypes: int32(1)\n",
      "memory usage: 248.0 bytes\n"
     ]
    }
   ],
   "source": [
    "sal.info()"
   ]
  },
  {
   "cell_type": "code",
   "execution_count": 32,
   "id": "88425c8e",
   "metadata": {},
   "outputs": [
    {
     "data": {
      "text/plain": [
       "count       30.000000\n",
       "mean     62743.600000\n",
       "std      18076.509696\n",
       "min      30238.000000\n",
       "25%      45572.250000\n",
       "50%      61732.000000\n",
       "75%      79941.250000\n",
       "max      89310.000000\n",
       "dtype: float64"
      ]
     },
     "execution_count": 32,
     "metadata": {},
     "output_type": "execute_result"
    }
   ],
   "source": [
    "sal.describe()"
   ]
  },
  {
   "cell_type": "code",
   "execution_count": 33,
   "id": "51164542",
   "metadata": {},
   "outputs": [
    {
     "name": "stdout",
     "output_type": "stream",
     "text": [
      "Range =  59072\n"
     ]
    }
   ],
   "source": [
    "print('Range = ', sal.max()-sal.min())"
   ]
  },
  {
   "cell_type": "code",
   "execution_count": 34,
   "id": "363da6fb",
   "metadata": {},
   "outputs": [
    {
     "data": {
      "text/plain": [
       "34369.0"
      ]
     },
     "execution_count": 34,
     "metadata": {},
     "output_type": "execute_result"
    }
   ],
   "source": [
    "q1 = sal.quantile(0.25)\n",
    "q3 = sal.quantile(0.75)\n",
    "iqr = q3 - q1\n",
    "iqr"
   ]
  },
  {
   "cell_type": "code",
   "execution_count": 35,
   "id": "fe60e2eb",
   "metadata": {},
   "outputs": [
    {
     "data": {
      "text/plain": [
       "0     30238\n",
       "1     33943\n",
       "2     37807\n",
       "3     40814\n",
       "4     43590\n",
       "5     44013\n",
       "6     44639\n",
       "7     44713\n",
       "8     48150\n",
       "9     50508\n",
       "10    51191\n",
       "11    56659\n",
       "12    57842\n",
       "13    59612\n",
       "14    61073\n",
       "15    62391\n",
       "16    64715\n",
       "17    72287\n",
       "18    74338\n",
       "19    75405\n",
       "20    77506\n",
       "21    79588\n",
       "22    80059\n",
       "23    80342\n",
       "24    82077\n",
       "25    82703\n",
       "26    84845\n",
       "27    85847\n",
       "28    86103\n",
       "29    89310\n",
       "dtype: int32"
      ]
     },
     "execution_count": 35,
     "metadata": {},
     "output_type": "execute_result"
    }
   ],
   "source": [
    "sal.mode()  #no repeating values"
   ]
  },
  {
   "cell_type": "markdown",
   "id": "3c53ee65",
   "metadata": {},
   "source": [
    "### 4."
   ]
  },
  {
   "cell_type": "raw",
   "id": "259119a1",
   "metadata": {},
   "source": [
    "*numpy arrays are not indexed but pandas is\n",
    "*numpy allows only homogeneous arrays (converts to str if there's any heterogeneity) whereas pandas accepts heterogeneous values "
   ]
  },
  {
   "cell_type": "code",
   "execution_count": 45,
   "id": "17c05b52",
   "metadata": {},
   "outputs": [
    {
     "data": {
      "text/plain": [
       "('kai', 92, 88, 1.1, 'zero', 'nine', 9)"
      ]
     },
     "execution_count": 45,
     "metadata": {},
     "output_type": "execute_result"
    }
   ],
   "source": [
    "tup"
   ]
  },
  {
   "cell_type": "code",
   "execution_count": 46,
   "id": "a4fec1f1",
   "metadata": {},
   "outputs": [
    {
     "data": {
      "text/plain": [
       "array(['kai', '92', '88', '1.1', 'zero', 'nine', '9'], dtype='<U32')"
      ]
     },
     "execution_count": 46,
     "metadata": {},
     "output_type": "execute_result"
    }
   ],
   "source": [
    "np.array(tup)  #np array which is not indexed and converted int and float values to str, making it homogeneous"
   ]
  },
  {
   "cell_type": "code",
   "execution_count": 47,
   "id": "0bca0449",
   "metadata": {},
   "outputs": [
    {
     "data": {
      "text/plain": [
       "0     kai\n",
       "1      92\n",
       "2      88\n",
       "3     1.1\n",
       "4    zero\n",
       "5    nine\n",
       "6       9\n",
       "dtype: object"
      ]
     },
     "execution_count": 47,
     "metadata": {},
     "output_type": "execute_result"
    }
   ],
   "source": [
    "hetero  #pd Series is indexed and allows heterogeneity"
   ]
  },
  {
   "cell_type": "markdown",
   "id": "9134bb09",
   "metadata": {},
   "source": [
    "### 5."
   ]
  },
  {
   "cell_type": "code",
   "execution_count": 49,
   "id": "815452f7",
   "metadata": {},
   "outputs": [
    {
     "data": {
      "text/plain": [
       "0     100\n",
       "1     101\n",
       "2     102\n",
       "3     103\n",
       "4     104\n",
       "5     105\n",
       "6     106\n",
       "7     107\n",
       "8     108\n",
       "9     109\n",
       "10    110\n",
       "11    111\n",
       "12    112\n",
       "13    113\n",
       "14    114\n",
       "15    115\n",
       "16    116\n",
       "17    117\n",
       "18    118\n",
       "19    119\n",
       "20    120\n",
       "21    121\n",
       "22    122\n",
       "23    123\n",
       "24    124\n",
       "25    125\n",
       "26    126\n",
       "27    127\n",
       "28    128\n",
       "29    129\n",
       "30    130\n",
       "31    131\n",
       "32    132\n",
       "33    133\n",
       "34    134\n",
       "35    135\n",
       "36    136\n",
       "37    137\n",
       "38    138\n",
       "39    139\n",
       "40    140\n",
       "41    141\n",
       "42    142\n",
       "43    143\n",
       "44    144\n",
       "45    145\n",
       "46    146\n",
       "47    147\n",
       "48    148\n",
       "49    149\n",
       "50    150\n",
       "dtype: int64"
      ]
     },
     "execution_count": 49,
     "metadata": {},
     "output_type": "execute_result"
    }
   ],
   "source": [
    "s = pd.Series(list(range(100,151)))\n",
    "s"
   ]
  },
  {
   "cell_type": "code",
   "execution_count": 51,
   "id": "5492cdd5",
   "metadata": {},
   "outputs": [
    {
     "data": {
      "text/plain": [
       "121"
      ]
     },
     "execution_count": 51,
     "metadata": {},
     "output_type": "execute_result"
    }
   ],
   "source": [
    "s[21]"
   ]
  },
  {
   "cell_type": "code",
   "execution_count": 52,
   "id": "e63f1984",
   "metadata": {},
   "outputs": [
    {
     "data": {
      "text/plain": [
       "2     102\n",
       "3     103\n",
       "4     104\n",
       "5     105\n",
       "6     106\n",
       "7     107\n",
       "8     108\n",
       "9     109\n",
       "10    110\n",
       "11    111\n",
       "12    112\n",
       "13    113\n",
       "dtype: int64"
      ]
     },
     "execution_count": 52,
     "metadata": {},
     "output_type": "execute_result"
    }
   ],
   "source": [
    "s[2:14]"
   ]
  },
  {
   "cell_type": "code",
   "execution_count": 53,
   "id": "e871f373",
   "metadata": {},
   "outputs": [
    {
     "data": {
      "text/plain": [
       "13    113\n",
       "16    116\n",
       "19    119\n",
       "dtype: int64"
      ]
     },
     "execution_count": 53,
     "metadata": {},
     "output_type": "execute_result"
    }
   ],
   "source": [
    "s[13:20:3]"
   ]
  },
  {
   "cell_type": "code",
   "execution_count": 55,
   "id": "b358140c",
   "metadata": {},
   "outputs": [
    {
     "data": {
      "text/plain": [
       "40    140\n",
       "38    138\n",
       "36    136\n",
       "34    134\n",
       "32    132\n",
       "30    130\n",
       "28    128\n",
       "26    126\n",
       "24    124\n",
       "22    122\n",
       "dtype: int64"
      ]
     },
     "execution_count": 55,
     "metadata": {},
     "output_type": "execute_result"
    }
   ],
   "source": [
    "s[40:20:-2]"
   ]
  },
  {
   "cell_type": "code",
   "execution_count": null,
   "id": "4b656b00",
   "metadata": {},
   "outputs": [],
   "source": []
  }
 ],
 "metadata": {
  "kernelspec": {
   "display_name": "Python 3 (ipykernel)",
   "language": "python",
   "name": "python3"
  },
  "language_info": {
   "codemirror_mode": {
    "name": "ipython",
    "version": 3
   },
   "file_extension": ".py",
   "mimetype": "text/x-python",
   "name": "python",
   "nbconvert_exporter": "python",
   "pygments_lexer": "ipython3",
   "version": "3.10.13"
  }
 },
 "nbformat": 4,
 "nbformat_minor": 5
}
