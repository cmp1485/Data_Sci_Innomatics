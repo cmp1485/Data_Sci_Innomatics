{
 "cells": [
  {
   "cell_type": "markdown",
   "id": "226a9a22",
   "metadata": {},
   "source": [
    "### 1."
   ]
  },
  {
   "cell_type": "code",
   "execution_count": 1,
   "id": "306e61a3",
   "metadata": {},
   "outputs": [],
   "source": [
    "sumation = lambda a,b: a+b"
   ]
  },
  {
   "cell_type": "code",
   "execution_count": 2,
   "id": "24971c81",
   "metadata": {},
   "outputs": [
    {
     "data": {
      "text/plain": [
       "12"
      ]
     },
     "execution_count": 2,
     "metadata": {},
     "output_type": "execute_result"
    }
   ],
   "source": [
    "sumation(3,9)"
   ]
  },
  {
   "cell_type": "code",
   "execution_count": 5,
   "id": "a934650f",
   "metadata": {},
   "outputs": [],
   "source": [
    "sqr=lambda a:a**2"
   ]
  },
  {
   "cell_type": "code",
   "execution_count": 6,
   "id": "22b00c72",
   "metadata": {},
   "outputs": [
    {
     "data": {
      "text/plain": [
       "36"
      ]
     },
     "execution_count": 6,
     "metadata": {},
     "output_type": "execute_result"
    }
   ],
   "source": [
    "sqr(6)"
   ]
  },
  {
   "cell_type": "markdown",
   "id": "427faae2",
   "metadata": {},
   "source": [
    "### 2."
   ]
  },
  {
   "cell_type": "code",
   "execution_count": 37,
   "id": "cc4f57a7",
   "metadata": {},
   "outputs": [],
   "source": [
    "listInt=[51,2,32,9,67,82,43,6]"
   ]
  },
  {
   "cell_type": "code",
   "execution_count": 38,
   "id": "c29ac573",
   "metadata": {},
   "outputs": [],
   "source": [
    "def even(n):\n",
    "    if n%2==0:\n",
    "        return n"
   ]
  },
  {
   "cell_type": "code",
   "execution_count": 39,
   "id": "3bcd41d8",
   "metadata": {},
   "outputs": [],
   "source": [
    "l1=list(filter(even, listInt))"
   ]
  },
  {
   "cell_type": "code",
   "execution_count": 40,
   "id": "2ad0808f",
   "metadata": {},
   "outputs": [],
   "source": [
    "def gr10(n):\n",
    "    if n>10:\n",
    "        return n"
   ]
  },
  {
   "cell_type": "code",
   "execution_count": 41,
   "id": "75d6e396",
   "metadata": {},
   "outputs": [],
   "source": [
    "l2=list(filter(gr10,listInt))"
   ]
  },
  {
   "cell_type": "code",
   "execution_count": 44,
   "id": "455cd7bb",
   "metadata": {},
   "outputs": [
    {
     "name": "stdout",
     "output_type": "stream",
     "text": [
      "Filtered list of even numbers:  [2, 32, 82, 6]\n",
      "square of the above list: [51, 32, 67, 82, 43]\n"
     ]
    }
   ],
   "source": [
    "print(\"Filtered list of even numbers: \",l1)\n",
    "print(\"square of the above list:\",l2)"
   ]
  },
  {
   "cell_type": "markdown",
   "id": "5df0a1c3",
   "metadata": {},
   "source": [
    "### 3."
   ]
  },
  {
   "cell_type": "code",
   "execution_count": 45,
   "id": "ef68d786",
   "metadata": {},
   "outputs": [],
   "source": [
    "liststr=[\"12\",\"9\",\"72\",\"14\",\"4\",\"36\",\"29\"]"
   ]
  },
  {
   "cell_type": "code",
   "execution_count": 46,
   "id": "dcff21ba",
   "metadata": {},
   "outputs": [],
   "source": [
    "def convtoint(x):\n",
    "    if type(x)==str:\n",
    "        return int(x)"
   ]
  },
  {
   "cell_type": "code",
   "execution_count": 47,
   "id": "3dd06251",
   "metadata": {},
   "outputs": [
    {
     "name": "stdout",
     "output_type": "stream",
     "text": [
      "[12, 9, 72, 14, 4, 36, 29]\n"
     ]
    }
   ],
   "source": [
    "a=list(map(convtoint, liststr))\n",
    "print(a)"
   ]
  },
  {
   "cell_type": "code",
   "execution_count": 48,
   "id": "cb36d6be",
   "metadata": {},
   "outputs": [
    {
     "data": {
      "text/plain": [
       "[144, 81, 5184, 196, 16, 1296, 841]"
      ]
     },
     "execution_count": 48,
     "metadata": {},
     "output_type": "execute_result"
    }
   ],
   "source": [
    "list(map(sqr, a))"
   ]
  },
  {
   "cell_type": "markdown",
   "id": "ccb72785",
   "metadata": {},
   "source": [
    "### 4."
   ]
  },
  {
   "cell_type": "code",
   "execution_count": 105,
   "id": "32ce71c1",
   "metadata": {},
   "outputs": [],
   "source": [
    "name_age = [{\"name\":\"Joshua\", \"age\":40},\n",
    "            {\"name\": \"Princy\", \"age\":23},\n",
    "            {\"name\":\"Kai\", \"age\":31},\n",
    "            {\"name\":\"Lily\",\"age\":10},\n",
    "            {\"name\":\"Megha\",\"age\":15}]"
   ]
  },
  {
   "cell_type": "code",
   "execution_count": 108,
   "id": "5af466ca",
   "metadata": {},
   "outputs": [],
   "source": [
    "def age25(i):\n",
    "    if i[\"age\"]>25:\n",
    "        return i[\"name\"]"
   ]
  },
  {
   "cell_type": "code",
   "execution_count": 112,
   "id": "a0e2e91d",
   "metadata": {},
   "outputs": [
    {
     "name": "stdout",
     "output_type": "stream",
     "text": [
      "[{'name': 'Joshua', 'age': 40}, {'name': 'Kai', 'age': 31}]\n"
     ]
    }
   ],
   "source": [
    "x=list(filter(age25,name_age))\n",
    "print(x)"
   ]
  },
  {
   "cell_type": "code",
   "execution_count": null,
   "id": "7bddd1d9",
   "metadata": {},
   "outputs": [],
   "source": [
    "age25=[]\n",
    "for i in x:\n",
    "    age25.append(i[\"name\"])\n",
    "print(age25)"
   ]
  },
  {
   "cell_type": "code",
   "execution_count": 123,
   "id": "88a25283",
   "metadata": {},
   "outputs": [],
   "source": [
    "def f(i):\n",
    "    while i in x:\n",
    "        return i[\"name\"]"
   ]
  },
  {
   "cell_type": "code",
   "execution_count": 124,
   "id": "7adbe022",
   "metadata": {},
   "outputs": [
    {
     "data": {
      "text/plain": [
       "['Joshua', 'Kai']"
      ]
     },
     "execution_count": 124,
     "metadata": {},
     "output_type": "execute_result"
    }
   ],
   "source": [
    "list(map(f,x))"
   ]
  },
  {
   "cell_type": "markdown",
   "id": "cee32b85",
   "metadata": {},
   "source": [
    "### 5."
   ]
  },
  {
   "cell_type": "code",
   "execution_count": 136,
   "id": "b77ad774",
   "metadata": {},
   "outputs": [
    {
     "name": "stdout",
     "output_type": "stream",
     "text": [
      "enter integers separated by ',': 2,3,4,5,6,7\n",
      "['2', '3', '4', '5', '6', '7']\n"
     ]
    }
   ],
   "source": [
    "intlst=input(\"enter integers separated by ',': \")\n",
    "num = list(intlst.split(','))\n",
    "print(num)"
   ]
  },
  {
   "cell_type": "code",
   "execution_count": 137,
   "id": "c1bbcf38",
   "metadata": {},
   "outputs": [
    {
     "name": "stdout",
     "output_type": "stream",
     "text": [
      "[2, 3, 4, 5, 6, 7]\n"
     ]
    }
   ],
   "source": [
    "new=[]\n",
    "for i in num:\n",
    "    x= int(i)\n",
    "    new.append(x)\n",
    "print(new)"
   ]
  },
  {
   "cell_type": "code",
   "execution_count": 138,
   "id": "b0453511",
   "metadata": {},
   "outputs": [
    {
     "data": {
      "text/plain": [
       "[4, 9, 16, 25, 36, 49]"
      ]
     },
     "execution_count": 138,
     "metadata": {},
     "output_type": "execute_result"
    }
   ],
   "source": [
    "list(map(sqr,new))"
   ]
  },
  {
   "cell_type": "code",
   "execution_count": 139,
   "id": "3d3942f5",
   "metadata": {},
   "outputs": [],
   "source": [
    "def div3(x):\n",
    "    if x%3==0:\n",
    "        return x"
   ]
  },
  {
   "cell_type": "code",
   "execution_count": 140,
   "id": "87b08550",
   "metadata": {},
   "outputs": [
    {
     "data": {
      "text/plain": [
       "[3, 6]"
      ]
     },
     "execution_count": 140,
     "metadata": {},
     "output_type": "execute_result"
    }
   ],
   "source": [
    "list(filter(div3,new))"
   ]
  },
  {
   "cell_type": "code",
   "execution_count": null,
   "id": "facafbda",
   "metadata": {},
   "outputs": [],
   "source": []
  }
 ],
 "metadata": {
  "kernelspec": {
   "display_name": "Python 3 (ipykernel)",
   "language": "python",
   "name": "python3"
  },
  "language_info": {
   "codemirror_mode": {
    "name": "ipython",
    "version": 3
   },
   "file_extension": ".py",
   "mimetype": "text/x-python",
   "name": "python",
   "nbconvert_exporter": "python",
   "pygments_lexer": "ipython3",
   "version": "3.10.13"
  }
 },
 "nbformat": 4,
 "nbformat_minor": 5
}
