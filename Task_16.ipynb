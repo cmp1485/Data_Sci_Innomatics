{
 "cells": [
  {
   "cell_type": "markdown",
   "id": "abfa3846",
   "metadata": {},
   "source": [
    "### 1."
   ]
  },
  {
   "cell_type": "code",
   "execution_count": 10,
   "id": "87465027",
   "metadata": {},
   "outputs": [],
   "source": [
    "file = open('about_python.txt','r')"
   ]
  },
  {
   "cell_type": "code",
   "execution_count": 12,
   "id": "4dc14241",
   "metadata": {},
   "outputs": [],
   "source": [
    "f= file.read()"
   ]
  },
  {
   "cell_type": "code",
   "execution_count": 14,
   "id": "0d54a8f1",
   "metadata": {},
   "outputs": [
    {
     "name": "stdout",
     "output_type": "stream",
     "text": [
      "Python supports object-oriented programming (OOP) concepts.\n",
      "Python is a compiled language.\n",
      "Python has a rich ecosystem of third-party libraries.\n",
      "Python is a paid programming language\n",
      "Python uses indentation for code block structuring.\n",
      "Python is statically Typed Language\n",
      "Python only supports double quotes for string literals.\n",
      "Python can only be used for web development.\n",
      "Python was created by Elon Musk.\n"
     ]
    }
   ],
   "source": [
    "print(f)"
   ]
  },
  {
   "cell_type": "code",
   "execution_count": 26,
   "id": "aa980430",
   "metadata": {},
   "outputs": [],
   "source": [
    "f=f.replace('a compiled','an interpreted')\n",
    "f=f.replace('paid','free')\n",
    "f=f.replace('statically','dynamically')\n",
    "f=f.replace('only supports','supports single and')\n",
    "f=f.replace('only','')\n",
    "f=f.replace('Elon Musk', 'Guido Van Rossum')"
   ]
  },
  {
   "cell_type": "code",
   "execution_count": 29,
   "id": "f6572414",
   "metadata": {},
   "outputs": [
    {
     "data": {
      "text/plain": [
       "412"
      ]
     },
     "execution_count": 29,
     "metadata": {},
     "output_type": "execute_result"
    }
   ],
   "source": [
    "file.tell()"
   ]
  },
  {
   "cell_type": "code",
   "execution_count": 33,
   "id": "9afd7ddc",
   "metadata": {},
   "outputs": [
    {
     "data": {
      "text/plain": [
       "417"
      ]
     },
     "execution_count": 33,
     "metadata": {},
     "output_type": "execute_result"
    }
   ],
   "source": [
    "len('''Python supports object-oriented programming (OOP) concepts.\n",
    "Python is a interpreted language.\n",
    "Python has a rich ecosystem of third-party libraries.\n",
    "Python is a free programming language\n",
    "Python uses indentation for code block structuring.\n",
    "Python is dynamically Typed Language\n",
    "Python supports single and double quotes for string literals.\n",
    "Python can  be used for web development.\n",
    "Python was created by Guido Van Rossum.''')"
   ]
  },
  {
   "cell_type": "code",
   "execution_count": 35,
   "id": "bcb5ae30",
   "metadata": {},
   "outputs": [
    {
     "data": {
      "text/plain": [
       "9"
      ]
     },
     "execution_count": 35,
     "metadata": {},
     "output_type": "execute_result"
    }
   ],
   "source": [
    "f.count('Python')"
   ]
  },
  {
   "cell_type": "code",
   "execution_count": 36,
   "id": "c7649493",
   "metadata": {},
   "outputs": [
    {
     "name": "stdout",
     "output_type": "stream",
     "text": [
      "Python supports object-oriented programming (OOP) concepts.\n",
      "Python is a interpreted language.\n",
      "Python has a rich ecosystem of third-party libraries.\n",
      "Python is a free programming language\n",
      "Python uses indentation for code block structuring.\n",
      "Python is dynamically Typed Language\n",
      "Python supports single and double quotes for string literals.\n",
      "Python can  be used for web development.\n",
      "Python was created by Guido Van Rossum.\n"
     ]
    }
   ],
   "source": [
    "print(f)"
   ]
  },
  {
   "cell_type": "markdown",
   "id": "8a68000e",
   "metadata": {},
   "source": [
    "### 2."
   ]
  },
  {
   "cell_type": "code",
   "execution_count": 1,
   "id": "8caeb319",
   "metadata": {},
   "outputs": [],
   "source": [
    "cr = open('File.txt', 'x')"
   ]
  },
  {
   "cell_type": "code",
   "execution_count": 2,
   "id": "36cfc5a5",
   "metadata": {},
   "outputs": [],
   "source": [
    "f=open('File.txt','w')"
   ]
  },
  {
   "cell_type": "code",
   "execution_count": 3,
   "id": "5e6c29fa",
   "metadata": {},
   "outputs": [
    {
     "data": {
      "text/plain": [
       "10"
      ]
     },
     "execution_count": 3,
     "metadata": {},
     "output_type": "execute_result"
    }
   ],
   "source": [
    "f.write(\"Greetings!\")"
   ]
  },
  {
   "cell_type": "code",
   "execution_count": 4,
   "id": "189fbf6a",
   "metadata": {},
   "outputs": [],
   "source": [
    "f.writelines([\"\\nHow was your day?\\n\",\"Have a great day ahead\"])"
   ]
  },
  {
   "cell_type": "code",
   "execution_count": 5,
   "id": "bbc67437",
   "metadata": {},
   "outputs": [],
   "source": [
    "f.close()"
   ]
  },
  {
   "cell_type": "code",
   "execution_count": 17,
   "id": "0437be7a",
   "metadata": {},
   "outputs": [],
   "source": [
    "fr = open('File.txt','r')"
   ]
  },
  {
   "cell_type": "code",
   "execution_count": 13,
   "id": "2aadf104",
   "metadata": {},
   "outputs": [
    {
     "name": "stdout",
     "output_type": "stream",
     "text": [
      "Greetings!\n",
      "How was your day?\n",
      "Have a great day ahead\n"
     ]
    }
   ],
   "source": [
    "print(fr.read())"
   ]
  },
  {
   "cell_type": "code",
   "execution_count": 8,
   "id": "d8ae1e2b",
   "metadata": {},
   "outputs": [],
   "source": [
    "f.close()"
   ]
  },
  {
   "cell_type": "code",
   "execution_count": 9,
   "id": "75bfbe1f",
   "metadata": {},
   "outputs": [],
   "source": [
    "a = open('file.txt','a')"
   ]
  },
  {
   "cell_type": "code",
   "execution_count": 10,
   "id": "57ced65a",
   "metadata": {},
   "outputs": [
    {
     "data": {
      "text/plain": [
       "5"
      ]
     },
     "execution_count": 10,
     "metadata": {},
     "output_type": "execute_result"
    }
   ],
   "source": [
    "a.write(\"\\nBye!\")"
   ]
  },
  {
   "cell_type": "code",
   "execution_count": 16,
   "id": "4fe5f12c",
   "metadata": {},
   "outputs": [],
   "source": [
    "a.close()"
   ]
  },
  {
   "cell_type": "code",
   "execution_count": 18,
   "id": "80443f90",
   "metadata": {},
   "outputs": [
    {
     "name": "stdout",
     "output_type": "stream",
     "text": [
      "Greetings!\n",
      "How was your day?\n",
      "Have a great day ahead\n",
      "Bye!\n"
     ]
    }
   ],
   "source": [
    "print(fr.read())"
   ]
  },
  {
   "cell_type": "code",
   "execution_count": null,
   "id": "81c4ddc5",
   "metadata": {},
   "outputs": [],
   "source": []
  }
 ],
 "metadata": {
  "kernelspec": {
   "display_name": "Python 3 (ipykernel)",
   "language": "python",
   "name": "python3"
  },
  "language_info": {
   "codemirror_mode": {
    "name": "ipython",
    "version": 3
   },
   "file_extension": ".py",
   "mimetype": "text/x-python",
   "name": "python",
   "nbconvert_exporter": "python",
   "pygments_lexer": "ipython3",
   "version": "3.10.13"
  }
 },
 "nbformat": 4,
 "nbformat_minor": 5
}
