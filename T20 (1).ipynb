{
 "cells": [
  {
   "cell_type": "code",
   "execution_count": 29,
   "id": "5ca59beb",
   "metadata": {},
   "outputs": [],
   "source": [
    "class rms:\n",
    "    def __init__(self, menu, tables, orders, staff, payments):\n",
    "        self.menu = menu\n",
    "        self.tables = tables\n",
    "        self.orders = orders\n",
    "        self.staff = staff\n",
    "        self.payments = payments\n",
    "    \n",
    "    def dispmenu(self):\n",
    "        '''Displays the menu of dishes along with their prices and allows you to update the menu, including adding new items, modifying prices, and removing discontinued items.'''\n",
    "        modification = input(\"Enter the modification you want to make: 'add' or 'price' or 'remove':\")\n",
    "        if modification == 'add':\n",
    "            category = input(\"The new item belongs to category: \")\n",
    "            new_item = input(\"The new item is: \")\n",
    "            price_new = int(input(\"Price of the new item is: \"))\n",
    "            self.menu[category][new_item]=price_new\n",
    "        elif modification == 'price':\n",
    "            category = input(\"Enter the category to which the item belongs \")\n",
    "            item = input(\"Enter the item whose price is to be updated \")\n",
    "            new_pp = int(input(\"New price of the item = \"))\n",
    "            self.menu[category][item] = new_pp\n",
    "        elif modification == 'remove':\n",
    "            category = input(\"Enter the category to which the item belongs \")\n",
    "            item = input(\"Enter the discontinued item \")\n",
    "            del self.menu[category][item]\n",
    "        print(self.menu)\n",
    "            \n",
    "            \n",
    "    def takeorder(self):\n",
    "        '''Takes orders, adds items, and specifies the quantity of each item.'''\n",
    "        category = input(\"Enter the category to which the item belongs: \")\n",
    "        item = input(\"Enter the item to be ordered: \")\n",
    "        quantity = int(input(\"Quantity of the item: \"))\n",
    "        if item in self.orders:\n",
    "            self.orders[item] += quantity\n",
    "            print(self.orders)\n",
    "        else:\n",
    "            self.orders[item] = quantity\n",
    "            print(self.orders)\n",
    "        \n",
    "            \n",
    "            \n",
    "            \n",
    "            \n",
    "    def tablevac(self):\n",
    "        '''Tracks table availability and occupancy status, allowing staff to assign tables to customers and mark tables as occupied or vacant.'''\n",
    "        o = int(input(\"Number of occupied tables: \"))\n",
    "        v = self.tables - o\n",
    "        print(\"Number of vacant tables = \", v)\n",
    "        status = input(\"Enter status: 'occupied' or 'vacant'\")\n",
    "        if status == 'occupied':\n",
    "            v-=1\n",
    "            print(\"updated number of vacant tables = \", v)\n",
    "        elif status == 'vacant':\n",
    "            v+=1\n",
    "            print(\"updated number of vacant tables = \", v)\n",
    "            \n",
    "    \n",
    "    \n",
    "    \n",
    "    def reservations(self):\n",
    "        '''Facilitates the process of making, modifying, and canceling table reservations based on customer requests and availability.'''\n",
    "        total_res = int(input(\"Number of reserved tables: \"))\n",
    "        res_req = input(\"Enter request: 'make', 'modify', 'cancel'\")\n",
    "        if res_req == 'make':\n",
    "            total_res+=1\n",
    "            print(\"Reservation made! total number of reserved tables = \", total_res)\n",
    "        elif res_req == 'modify':\n",
    "            new_t = input(\"Enter modified time of reservation\")\n",
    "            if total_res < self.tables:\n",
    "                total_res+=1\n",
    "                print(f\"Table reserved at {new_t}\")\n",
    "            else:\n",
    "                print(f\"No available tables at {new_t}\")\n",
    "        elif res_req == 'cancel':\n",
    "            total_res -=1\n",
    "            print(\"Reservation cancelled! total number of reserved tables = \", total_res)"
   ]
  },
  {
   "cell_type": "code",
   "execution_count": 30,
   "id": "b70c8675",
   "metadata": {},
   "outputs": [],
   "source": [
    "menu_data ={'starters':\n",
    "       {'chilli chicken': 200, 'mutton pav':250, 'aloo cutlet':150, 'aloo samosa':80, 'onion samosa':50},\n",
    "       'main course':\n",
    "       {'chicken biryani':300, 'dum aloo': 250, 'sushi': 550, 'onigiri': 250, 'gyoza': 250},\n",
    "       'desserts':\n",
    "       {'brownie':150,'brownie with icecream':200}}"
   ]
  },
  {
   "cell_type": "code",
   "execution_count": 31,
   "id": "33a64529",
   "metadata": {},
   "outputs": [],
   "source": [
    "paradise = rms(menu_data, 25, {'chilli chicken': 1, 'gyoza': 2, 'brownie with icecream': 1}, ['KSoo', 'Princy', 'Ginny'], 700)"
   ]
  },
  {
   "cell_type": "code",
   "execution_count": null,
   "id": "8ef7f607",
   "metadata": {},
   "outputs": [],
   "source": []
  },
  {
   "cell_type": "code",
   "execution_count": 38,
   "id": "3a371b4c",
   "metadata": {},
   "outputs": [
    {
     "name": "stdout",
     "output_type": "stream",
     "text": [
      "Enter the modification you want to make: 'add' or 'price' or 'remove':add\n",
      "The new item belongs to category: main course\n",
      "The new item is: lasangna\n",
      "Price of the new item is: 250\n",
      "{'starters': {'chilli chicken': 200, 'mutton pav': 250, 'aloo cutlet': 150, 'aloo samosa': 80, 'onion samosa': 50}, 'main course': {'chicken biryani': 300, 'dum aloo': 250, 'sushi': 550, 'onigiri': 250, 'gyoza': 250, 'lasangna': 250}, 'desserts': {'brownie': 150, 'brownie with icecream': 200}}\n"
     ]
    }
   ],
   "source": [
    "paradise.dispmenu()"
   ]
  },
  {
   "cell_type": "code",
   "execution_count": 39,
   "id": "eab2d29f",
   "metadata": {},
   "outputs": [
    {
     "name": "stdout",
     "output_type": "stream",
     "text": [
      "Enter the modification you want to make: 'add' or 'price' or 'remove':price\n",
      "Enter the category to which the item belongs desserts\n",
      "Enter the item whose price is to be updated brownie\n",
      "New price of the item = 180\n",
      "{'starters': {'chilli chicken': 200, 'mutton pav': 250, 'aloo cutlet': 150, 'aloo samosa': 80, 'onion samosa': 50}, 'main course': {'chicken biryani': 300, 'dum aloo': 250, 'sushi': 550, 'onigiri': 250, 'gyoza': 250, 'lasangna': 250}, 'desserts': {'brownie': 180, 'brownie with icecream': 200}}\n"
     ]
    }
   ],
   "source": [
    "paradise.dispmenu()"
   ]
  },
  {
   "cell_type": "code",
   "execution_count": 40,
   "id": "a4c33999",
   "metadata": {},
   "outputs": [
    {
     "data": {
      "text/plain": [
       "{'starters': {'chilli chicken': 200,\n",
       "  'mutton pav': 250,\n",
       "  'aloo cutlet': 150,\n",
       "  'aloo samosa': 80,\n",
       "  'onion samosa': 50},\n",
       " 'main course': {'chicken biryani': 300,\n",
       "  'dum aloo': 250,\n",
       "  'sushi': 550,\n",
       "  'onigiri': 250,\n",
       "  'gyoza': 250,\n",
       "  'lasangna': 250},\n",
       " 'desserts': {'brownie': 180, 'brownie with icecream': 200}}"
      ]
     },
     "execution_count": 40,
     "metadata": {},
     "output_type": "execute_result"
    }
   ],
   "source": [
    "paradise.menu"
   ]
  },
  {
   "cell_type": "code",
   "execution_count": 41,
   "id": "22a5070a",
   "metadata": {},
   "outputs": [
    {
     "data": {
      "text/plain": [
       "{'chilli chicken': 1, 'gyoza': 2, 'brownie with icecream': 1}"
      ]
     },
     "execution_count": 41,
     "metadata": {},
     "output_type": "execute_result"
    }
   ],
   "source": [
    "paradise.orders"
   ]
  },
  {
   "cell_type": "code",
   "execution_count": 42,
   "id": "b6d1b26d",
   "metadata": {},
   "outputs": [
    {
     "name": "stdout",
     "output_type": "stream",
     "text": [
      "Enter the category to which the item belongs: starters\n",
      "Enter the item to be ordered: mutton pav\n",
      "Quantity of the item: 2\n",
      "{'chilli chicken': 1, 'gyoza': 2, 'brownie with icecream': 1, 'mutton pav': 2}\n"
     ]
    }
   ],
   "source": [
    "paradise.takeorder()"
   ]
  },
  {
   "cell_type": "code",
   "execution_count": 43,
   "id": "dc967893",
   "metadata": {},
   "outputs": [
    {
     "data": {
      "text/plain": [
       "{'chilli chicken': 1, 'gyoza': 2, 'brownie with icecream': 1, 'mutton pav': 2}"
      ]
     },
     "execution_count": 43,
     "metadata": {},
     "output_type": "execute_result"
    }
   ],
   "source": [
    "paradise.orders"
   ]
  },
  {
   "cell_type": "code",
   "execution_count": 27,
   "id": "12a09e81",
   "metadata": {},
   "outputs": [
    {
     "name": "stdout",
     "output_type": "stream",
     "text": [
      "Number of occupied tables: 10\n",
      "Number of vacant tables =  15\n",
      "Enter status: 'occupied' or 'vacant'occupied\n",
      "updated number of vacant tables =  14\n"
     ]
    }
   ],
   "source": [
    "paradise.tablevac()"
   ]
  },
  {
   "cell_type": "code",
   "execution_count": 35,
   "id": "7e8e537a",
   "metadata": {},
   "outputs": [
    {
     "name": "stdout",
     "output_type": "stream",
     "text": [
      "Number of occupied tables: 11\n",
      "Number of vacant tables =  14\n",
      "Enter status: 'occupied' or 'vacant'vacant\n",
      "updated number of vacant tables =  15\n"
     ]
    }
   ],
   "source": [
    "paradise.tablevac()"
   ]
  },
  {
   "cell_type": "code",
   "execution_count": 32,
   "id": "abf53555",
   "metadata": {},
   "outputs": [
    {
     "name": "stdout",
     "output_type": "stream",
     "text": [
      "Number of reserved tables: 4\n",
      "Enter request: 'make', 'modify', 'cancel'make\n",
      "Reservation made! total number of reserved tables =  5\n"
     ]
    }
   ],
   "source": [
    "paradise.reservations()"
   ]
  },
  {
   "cell_type": "code",
   "execution_count": 33,
   "id": "c2af7b88",
   "metadata": {},
   "outputs": [
    {
     "name": "stdout",
     "output_type": "stream",
     "text": [
      "Number of reserved tables: 5\n",
      "Enter request: 'make', 'modify', 'cancel'modify\n",
      "Enter modified time of reservation5pm\n",
      "Table reserved at 5pm\n"
     ]
    }
   ],
   "source": [
    "paradise.reservations()"
   ]
  },
  {
   "cell_type": "code",
   "execution_count": 34,
   "id": "b1a76b75",
   "metadata": {},
   "outputs": [
    {
     "name": "stdout",
     "output_type": "stream",
     "text": [
      "Number of reserved tables: 5\n",
      "Enter request: 'make', 'modify', 'cancel'cancel\n",
      "Reservation cancelled! total number of reserved tables =  4\n"
     ]
    }
   ],
   "source": [
    "paradise.reservations()"
   ]
  },
  {
   "cell_type": "code",
   "execution_count": null,
   "id": "4476d951",
   "metadata": {},
   "outputs": [],
   "source": []
  },
  {
   "cell_type": "code",
   "execution_count": null,
   "id": "eef3e42e",
   "metadata": {},
   "outputs": [],
   "source": []
  }
 ],
 "metadata": {
  "kernelspec": {
   "display_name": "Python 3 (ipykernel)",
   "language": "python",
   "name": "python3"
  },
  "language_info": {
   "codemirror_mode": {
    "name": "ipython",
    "version": 3
   },
   "file_extension": ".py",
   "mimetype": "text/x-python",
   "name": "python",
   "nbconvert_exporter": "python",
   "pygments_lexer": "ipython3",
   "version": "3.10.13"
  }
 },
 "nbformat": 4,
 "nbformat_minor": 5
}
