{
 "cells": [
  {
   "cell_type": "code",
   "execution_count": 1,
   "id": "ec365a2b",
   "metadata": {},
   "outputs": [],
   "source": [
    "import numpy as np"
   ]
  },
  {
   "cell_type": "markdown",
   "id": "12dadf88",
   "metadata": {},
   "source": [
    "### Data Cleaning using numpy"
   ]
  },
  {
   "cell_type": "code",
   "execution_count": 9,
   "id": "5e7dfdb9",
   "metadata": {},
   "outputs": [
    {
     "data": {
      "text/plain": [
       "array([ 44.,  24.,  nan,  59.,  32.,  96., 188.,  52.,  62.,  58.,  52.,\n",
       "       120.,  nan,  nan,   3.,  56.,  81.,  59., 122.,  92.,  nan,  87.,\n",
       "        96.,  97.,   1.,  19.,   2.,  53.,  44.])"
      ]
     },
     "execution_count": 9,
     "metadata": {},
     "output_type": "execute_result"
    }
   ],
   "source": [
    "marks = np.array([44,24,np.nan,59,32,96,188,52,62,58,52,120,np.nan,np.nan,3,56,81,59,122,92,np.nan,87,96,97,1,19,2,53, 44])\n",
    "marks"
   ]
  },
  {
   "cell_type": "markdown",
   "id": "b87bcbcd",
   "metadata": {},
   "source": [
    "#### 1."
   ]
  },
  {
   "cell_type": "code",
   "execution_count": 13,
   "id": "6302304d",
   "metadata": {},
   "outputs": [
    {
     "data": {
      "text/plain": [
       "3"
      ]
     },
     "execution_count": 13,
     "metadata": {},
     "output_type": "execute_result"
    }
   ],
   "source": [
    "np.sum((marks<0) | (marks>100))"
   ]
  },
  {
   "cell_type": "markdown",
   "id": "192f141b",
   "metadata": {},
   "source": [
    "There are three outliers"
   ]
  },
  {
   "cell_type": "code",
   "execution_count": 16,
   "id": "125d8c1d",
   "metadata": {},
   "outputs": [
    {
     "data": {
      "text/plain": [
       "4"
      ]
     },
     "execution_count": 16,
     "metadata": {},
     "output_type": "execute_result"
    }
   ],
   "source": [
    "np.sum(np.isnan(marks))"
   ]
  },
  {
   "cell_type": "markdown",
   "id": "92a77cf9",
   "metadata": {},
   "source": [
    "There are 4 missing values"
   ]
  },
  {
   "cell_type": "markdown",
   "id": "22380fa8",
   "metadata": {},
   "source": [
    "#### 2."
   ]
  },
  {
   "cell_type": "code",
   "execution_count": 20,
   "id": "f66724f7",
   "metadata": {},
   "outputs": [
    {
     "data": {
      "text/plain": [
       "array([44., 24., nan, 59., 32., 96., 45., 52., 62., 58., 52., 45., nan,\n",
       "       nan,  3., 56., 81., 59., 45., 92., nan, 87., 96., 97.,  1., 19.,\n",
       "        2., 53., 44.])"
      ]
     },
     "execution_count": 20,
     "metadata": {},
     "output_type": "execute_result"
    }
   ],
   "source": [
    "marks = np.where((marks<0) | (marks>100),45,marks)\n",
    "marks"
   ]
  },
  {
   "cell_type": "code",
   "execution_count": 21,
   "id": "c072a325",
   "metadata": {},
   "outputs": [
    {
     "data": {
      "text/plain": [
       "array([44, 24, 87, 59, 32, 96, 45, 52, 62, 58, 52, 45, 87, 87,  3, 56, 81,\n",
       "       59, 45, 92, 87, 87, 96, 97,  1, 19,  2, 53, 44], dtype=int16)"
      ]
     },
     "execution_count": 21,
     "metadata": {},
     "output_type": "execute_result"
    }
   ],
   "source": [
    "mks = np.where(np.isnan(marks),87, marks).astype('int16')\n",
    "mks"
   ]
  },
  {
   "cell_type": "code",
   "execution_count": 23,
   "id": "b8fb244a",
   "metadata": {},
   "outputs": [
    {
     "name": "stdout",
     "output_type": "stream",
     "text": [
      "Avg marks of the class =  56.96551724137931\n"
     ]
    }
   ],
   "source": [
    "print('Avg marks of the class = ', np.mean(mks))"
   ]
  },
  {
   "cell_type": "code",
   "execution_count": 31,
   "id": "f9e4fff7",
   "metadata": {},
   "outputs": [
    {
     "name": "stdout",
     "output_type": "stream",
     "text": [
      "num of students who scored less than 60: 18\n"
     ]
    }
   ],
   "source": [
    "print('num of students who scored less than 60:', sum(mks<60))"
   ]
  },
  {
   "cell_type": "code",
   "execution_count": 32,
   "id": "b547e91d",
   "metadata": {},
   "outputs": [
    {
     "name": "stdout",
     "output_type": "stream",
     "text": [
      "max marks obtained=  97\n"
     ]
    }
   ],
   "source": [
    "print('max marks obtained= ',np.max(mks))"
   ]
  },
  {
   "cell_type": "code",
   "execution_count": 33,
   "id": "7b0bfaf8",
   "metadata": {},
   "outputs": [
    {
     "data": {
      "text/plain": [
       "array([44., 24., 87., 59., 32., 96., 45., 52., 62., 58., 52., 45., 87.,\n",
       "       87.,  3., 56., 81., 59., 45., 92., 87., 87., 96., 97.,  1., 19.,\n",
       "        2., 53., 44.], dtype=float32)"
      ]
     },
     "execution_count": 33,
     "metadata": {},
     "output_type": "execute_result"
    }
   ],
   "source": [
    "mks.astype('float32')"
   ]
  },
  {
   "cell_type": "markdown",
   "id": "50a3b379",
   "metadata": {},
   "source": [
    "### Solving Linear Equations"
   ]
  },
  {
   "cell_type": "raw",
   "id": "7adc7039",
   "metadata": {},
   "source": [
    "2x + 3y - z = 10\n",
    "\n",
    "x - y + 2z = 5\n",
    "\n",
    "3x + 2y + z = 12"
   ]
  },
  {
   "cell_type": "code",
   "execution_count": 34,
   "id": "2ab5e3fc",
   "metadata": {},
   "outputs": [],
   "source": [
    "a = np.array([[2,3,-1],[1,-1,2],[3,2,1]])\n",
    "b= np.array([10,5,12])"
   ]
  },
  {
   "cell_type": "code",
   "execution_count": 40,
   "id": "8f76645b",
   "metadata": {},
   "outputs": [
    {
     "data": {
      "text/plain": [
       "array([-6.75539944e+15,  6.75539944e+15,  6.75539944e+15])"
      ]
     },
     "execution_count": 40,
     "metadata": {},
     "output_type": "execute_result"
    }
   ],
   "source": [
    "np.linalg.solve(a,b)"
   ]
  },
  {
   "cell_type": "code",
   "execution_count": 35,
   "id": "cf0010f2",
   "metadata": {},
   "outputs": [],
   "source": [
    "x,y,z=np.linalg.solve(a,b)"
   ]
  },
  {
   "cell_type": "code",
   "execution_count": 36,
   "id": "2a1dbc98",
   "metadata": {},
   "outputs": [
    {
     "data": {
      "text/plain": [
       "-6755399441055741.0"
      ]
     },
     "execution_count": 36,
     "metadata": {},
     "output_type": "execute_result"
    }
   ],
   "source": [
    "x"
   ]
  },
  {
   "cell_type": "code",
   "execution_count": 37,
   "id": "39794fa7",
   "metadata": {},
   "outputs": [
    {
     "data": {
      "text/plain": [
       "6755399441055745.0"
      ]
     },
     "execution_count": 37,
     "metadata": {},
     "output_type": "execute_result"
    }
   ],
   "source": [
    "y"
   ]
  },
  {
   "cell_type": "code",
   "execution_count": 38,
   "id": "227ef8cd",
   "metadata": {},
   "outputs": [
    {
     "data": {
      "text/plain": [
       "6755399441055744.0"
      ]
     },
     "execution_count": 38,
     "metadata": {},
     "output_type": "execute_result"
    }
   ],
   "source": [
    "z"
   ]
  },
  {
   "cell_type": "raw",
   "id": "d02e6822",
   "metadata": {},
   "source": [
    "2x + y - z + 3w = 8\n",
    "\n",
    "3x - 2y + 2z + 2w = 1\n",
    "\n",
    "x + 3y - 2z + w = 7\n",
    "\n",
    "4x - y + z - 2w = 3"
   ]
  },
  {
   "cell_type": "code",
   "execution_count": 39,
   "id": "377ea109",
   "metadata": {},
   "outputs": [],
   "source": [
    "a2 = np.array([[2,1,-1,3],[3,-2,2,2],[1,3,-2,1],[4,-1,1,-2]])\n",
    "b2 = np.array([8,1,7,3])"
   ]
  },
  {
   "cell_type": "code",
   "execution_count": 41,
   "id": "c4a0fc12",
   "metadata": {},
   "outputs": [],
   "source": [
    "x,y,z,w = np.linalg.solve(a2,b2)"
   ]
  },
  {
   "cell_type": "code",
   "execution_count": 42,
   "id": "0c909a59",
   "metadata": {},
   "outputs": [
    {
     "data": {
      "text/plain": [
       "1.731707317073171"
      ]
     },
     "execution_count": 42,
     "metadata": {},
     "output_type": "execute_result"
    }
   ],
   "source": [
    "x"
   ]
  },
  {
   "cell_type": "code",
   "execution_count": 43,
   "id": "ce5155de",
   "metadata": {},
   "outputs": [
    {
     "data": {
      "text/plain": [
       "-0.7560975609756105"
      ]
     },
     "execution_count": 43,
     "metadata": {},
     "output_type": "execute_result"
    }
   ],
   "source": [
    "y"
   ]
  },
  {
   "cell_type": "code",
   "execution_count": 44,
   "id": "054ae0cf",
   "metadata": {},
   "outputs": [
    {
     "data": {
      "text/plain": [
       "-3.4634146341463428"
      ]
     },
     "execution_count": 44,
     "metadata": {},
     "output_type": "execute_result"
    }
   ],
   "source": [
    "z"
   ]
  },
  {
   "cell_type": "code",
   "execution_count": 45,
   "id": "d44cbe58",
   "metadata": {},
   "outputs": [
    {
     "data": {
      "text/plain": [
       "0.6097560975609756"
      ]
     },
     "execution_count": 45,
     "metadata": {},
     "output_type": "execute_result"
    }
   ],
   "source": [
    "w"
   ]
  },
  {
   "cell_type": "raw",
   "id": "3eac7a28",
   "metadata": {},
   "source": [
    "4x + 2y - 3z = 10\n",
    "\n",
    "-2x + 3y + z = -3\n",
    "\n",
    "x - y + 2z = 4"
   ]
  },
  {
   "cell_type": "code",
   "execution_count": 46,
   "id": "ffe9e966",
   "metadata": {},
   "outputs": [],
   "source": [
    "a3 = np.array([[4,2,-3],[-2,3,1],[1,-1,2]])\n",
    "b3 = np.array([10,-3,4])"
   ]
  },
  {
   "cell_type": "code",
   "execution_count": 47,
   "id": "d9c7c6e6",
   "metadata": {},
   "outputs": [],
   "source": [
    "x,y,z = np.linalg.solve(a3,b3)"
   ]
  },
  {
   "cell_type": "code",
   "execution_count": 48,
   "id": "8100fabc",
   "metadata": {},
   "outputs": [
    {
     "data": {
      "text/plain": [
       "2.853658536585366"
      ]
     },
     "execution_count": 48,
     "metadata": {},
     "output_type": "execute_result"
    }
   ],
   "source": [
    "x"
   ]
  },
  {
   "cell_type": "code",
   "execution_count": 49,
   "id": "fd440b47",
   "metadata": {},
   "outputs": [
    {
     "data": {
      "text/plain": [
       "0.6097560975609756"
      ]
     },
     "execution_count": 49,
     "metadata": {},
     "output_type": "execute_result"
    }
   ],
   "source": [
    "y"
   ]
  },
  {
   "cell_type": "code",
   "execution_count": 50,
   "id": "01574234",
   "metadata": {},
   "outputs": [
    {
     "data": {
      "text/plain": [
       "0.8780487804878049"
      ]
     },
     "execution_count": 50,
     "metadata": {},
     "output_type": "execute_result"
    }
   ],
   "source": [
    "z"
   ]
  },
  {
   "cell_type": "markdown",
   "id": "43eb63bf",
   "metadata": {},
   "source": [
    "### Conditional Selection with np.where()"
   ]
  },
  {
   "cell_type": "code",
   "execution_count": 52,
   "id": "ae720856",
   "metadata": {},
   "outputs": [],
   "source": [
    "A = np.random.randint(1,100,10)"
   ]
  },
  {
   "cell_type": "code",
   "execution_count": 53,
   "id": "27ef7df8",
   "metadata": {},
   "outputs": [
    {
     "data": {
      "text/plain": [
       "array([29, 81, 52, 16,  8, 85, 25, 67, 14, 68])"
      ]
     },
     "execution_count": 53,
     "metadata": {},
     "output_type": "execute_result"
    }
   ],
   "source": [
    "A"
   ]
  },
  {
   "cell_type": "code",
   "execution_count": 57,
   "id": "8e5e2290",
   "metadata": {},
   "outputs": [
    {
     "data": {
      "text/plain": [
       "(array([1, 2, 5, 7, 9], dtype=int64),)"
      ]
     },
     "execution_count": 57,
     "metadata": {},
     "output_type": "execute_result"
    }
   ],
   "source": [
    "gr50 = np.where(A>50)\n",
    "gr50"
   ]
  },
  {
   "cell_type": "code",
   "execution_count": 69,
   "id": "f5c5d2e0",
   "metadata": {},
   "outputs": [],
   "source": [
    "B = np.array(A[A>50])"
   ]
  },
  {
   "cell_type": "code",
   "execution_count": 70,
   "id": "33ee2616",
   "metadata": {},
   "outputs": [
    {
     "data": {
      "text/plain": [
       "array([81, 52, 85, 67, 68])"
      ]
     },
     "execution_count": 70,
     "metadata": {},
     "output_type": "execute_result"
    }
   ],
   "source": [
    "B"
   ]
  },
  {
   "cell_type": "code",
   "execution_count": 71,
   "id": "489270ef",
   "metadata": {},
   "outputs": [
    {
     "data": {
      "text/plain": [
       "70.6"
      ]
     },
     "execution_count": 71,
     "metadata": {},
     "output_type": "execute_result"
    }
   ],
   "source": [
    "np.mean(B)"
   ]
  },
  {
   "cell_type": "code",
   "execution_count": 73,
   "id": "5fbc7968",
   "metadata": {},
   "outputs": [
    {
     "data": {
      "text/plain": [
       "array([29, 81, 52, 16,  8, 85, 25, 67, 14, 68])"
      ]
     },
     "execution_count": 73,
     "metadata": {},
     "output_type": "execute_result"
    }
   ],
   "source": [
    "A"
   ]
  },
  {
   "cell_type": "code",
   "execution_count": 74,
   "id": "a5fed6f4",
   "metadata": {},
   "outputs": [
    {
     "data": {
      "text/plain": [
       "array([81, 52, 85, 67, 68])"
      ]
     },
     "execution_count": 74,
     "metadata": {},
     "output_type": "execute_result"
    }
   ],
   "source": [
    "B"
   ]
  },
  {
   "cell_type": "markdown",
   "id": "9a9c5050",
   "metadata": {},
   "source": [
    "### Replace Values with np.where()"
   ]
  },
  {
   "cell_type": "code",
   "execution_count": 75,
   "id": "de0b8b3e",
   "metadata": {},
   "outputs": [],
   "source": [
    "C = np.random.randint(-10,10,16).reshape((4,4))"
   ]
  },
  {
   "cell_type": "code",
   "execution_count": 76,
   "id": "ce9edb62",
   "metadata": {},
   "outputs": [
    {
     "data": {
      "text/plain": [
       "array([[-6, -3, -8, -5],\n",
       "       [-8,  2,  9, -6],\n",
       "       [-5, -9, -6,  2],\n",
       "       [ 5,  4,  8, -2]])"
      ]
     },
     "execution_count": 76,
     "metadata": {},
     "output_type": "execute_result"
    }
   ],
   "source": [
    "C"
   ]
  },
  {
   "cell_type": "code",
   "execution_count": 77,
   "id": "70818c06",
   "metadata": {},
   "outputs": [
    {
     "data": {
      "text/plain": [
       "array([[0, 0, 0, 0],\n",
       "       [0, 2, 9, 0],\n",
       "       [0, 0, 0, 2],\n",
       "       [5, 4, 8, 0]])"
      ]
     },
     "execution_count": 77,
     "metadata": {},
     "output_type": "execute_result"
    }
   ],
   "source": [
    "C = np.where(C<0, 0,C)\n",
    "C"
   ]
  },
  {
   "cell_type": "code",
   "execution_count": null,
   "id": "2ef0d927",
   "metadata": {},
   "outputs": [],
   "source": []
  }
 ],
 "metadata": {
  "kernelspec": {
   "display_name": "Python 3 (ipykernel)",
   "language": "python",
   "name": "python3"
  },
  "language_info": {
   "codemirror_mode": {
    "name": "ipython",
    "version": 3
   },
   "file_extension": ".py",
   "mimetype": "text/x-python",
   "name": "python",
   "nbconvert_exporter": "python",
   "pygments_lexer": "ipython3",
   "version": "3.10.13"
  }
 },
 "nbformat": 4,
 "nbformat_minor": 5
}
